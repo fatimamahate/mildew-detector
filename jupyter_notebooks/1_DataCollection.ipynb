{
  "cells": [
    {
      "cell_type": "markdown",
      "metadata": {
        "id": "0aStgWSO0E0E"
      },
      "source": [
        "# **Data Collection**"
      ]
    },
    {
      "cell_type": "markdown",
      "metadata": {
        "id": "1eLEkw5O0ECa"
      },
      "source": [
        "## Objectives\n",
        "\n",
        "* Fetch data from Kaggle and save as raw data\n",
        "* Remove non-image files from full dataset\n",
        "* Split data into train, validation and test sets\n",
        "\n",
        "## Inputs\n",
        "\n",
        "* kaggle.json - the authentication token for data\n",
        "\n",
        "## Outputs\n",
        "\n",
        "* Full dataset\n",
        "* Data set split into three sub folders (Train, Test and Validation)\n",
        "\n",
        "## Additional Comments\n",
        "\n",
        "* No additional comments\n",
        "\n"
      ]
    },
    {
      "cell_type": "markdown",
      "metadata": {
        "id": "9uWZXH9LwoQg"
      },
      "source": [
        "---"
      ]
    },
    {
      "cell_type": "markdown",
      "metadata": {
        "id": "cqP-UeN-z3i2"
      },
      "source": [
        "# Change working directory"
      ]
    },
    {
      "cell_type": "markdown",
      "metadata": {},
      "source": [
        "* We are assuming you will store the notebooks in a subfolder, therefore when running the notebook in the editor, you will need to change the working directory"
      ]
    },
    {
      "cell_type": "markdown",
      "metadata": {
        "id": "aOGIGS-uz3i2"
      },
      "source": [
        "We need to change the working directory from its current folder to its parent folder\n",
        "* We access the current directory with os.getcwd()"
      ]
    },
    {
      "cell_type": "code",
      "execution_count": 39,
      "metadata": {
        "id": "wZfF_j-Bz3i4",
        "outputId": "66943449-1436-4c3d-85c7-b85f9f78349b"
      },
      "outputs": [
        {
          "data": {
            "text/plain": [
              "'/workspace/mildew-detector/jupyter_notebooks'"
            ]
          },
          "execution_count": 39,
          "metadata": {},
          "output_type": "execute_result"
        }
      ],
      "source": [
        "import numpy\n",
        "import os\n",
        "path = '/workspace/mildew-detector/jupyter_notebooks'\n",
        "os.chdir(path)\n",
        "current_dir = os.getcwd()\n",
        "current_dir"
      ]
    },
    {
      "cell_type": "markdown",
      "metadata": {
        "id": "9MWW8E7lz3i7"
      },
      "source": [
        "We want to make the parent of the current directory the new current directory\n",
        "* os.path.dirname() gets the parent directory\n",
        "* os.chir() defines the new current directory"
      ]
    },
    {
      "cell_type": "code",
      "execution_count": 40,
      "metadata": {
        "id": "TwHsQRWjz3i9",
        "outputId": "86849db3-cd2f-4cc5-ebb8-2d0caafa1a2c"
      },
      "outputs": [
        {
          "name": "stdout",
          "output_type": "stream",
          "text": [
            "You set a new current directory\n"
          ]
        }
      ],
      "source": [
        "os.chdir(os.path.dirname(current_dir))\n",
        "print(\"You set a new current directory\")"
      ]
    },
    {
      "cell_type": "markdown",
      "metadata": {
        "id": "M_xPk_Ijz3i-"
      },
      "source": [
        "Confirm the new current directory"
      ]
    },
    {
      "cell_type": "code",
      "execution_count": 41,
      "metadata": {
        "id": "vz3S-_kjz3jA",
        "outputId": "00b79ae4-75d0-4a96-d193-ac9ef9847ea2"
      },
      "outputs": [
        {
          "data": {
            "text/plain": [
              "'/workspace/mildew-detector'"
            ]
          },
          "execution_count": 41,
          "metadata": {},
          "output_type": "execute_result"
        }
      ],
      "source": [
        "current_dir = os.getcwd()\n",
        "current_dir"
      ]
    },
    {
      "cell_type": "markdown",
      "metadata": {
        "id": "-mavJ8DibrcQ"
      },
      "source": [
        "# Import the Kaggle Data"
      ]
    },
    {
      "cell_type": "markdown",
      "metadata": {},
      "source": [
        "Kaggle data"
      ]
    },
    {
      "cell_type": "code",
      "execution_count": 42,
      "metadata": {},
      "outputs": [
        {
          "name": "stdout",
          "output_type": "stream",
          "text": [
            "Requirement already satisfied: kaggle in /home/gitpod/.pyenv/versions/3.8.18/lib/python3.8/site-packages (1.6.6)\n",
            "Requirement already satisfied: requests in /workspace/.pyenv_mirror/user/3.8.18/lib/python3.8/site-packages (from kaggle) (2.31.0)\n",
            "Requirement already satisfied: tqdm in /home/gitpod/.pyenv/versions/3.8.18/lib/python3.8/site-packages (from kaggle) (4.66.2)\n",
            "Requirement already satisfied: urllib3 in /workspace/.pyenv_mirror/user/3.8.18/lib/python3.8/site-packages (from kaggle) (2.2.1)\n",
            "Requirement already satisfied: python-slugify in /home/gitpod/.pyenv/versions/3.8.18/lib/python3.8/site-packages (from kaggle) (8.0.4)\n",
            "Requirement already satisfied: bleach in /home/gitpod/.pyenv/versions/3.8.18/lib/python3.8/site-packages (from kaggle) (6.1.0)\n",
            "Requirement already satisfied: python-dateutil in /workspace/.pyenv_mirror/user/3.8.18/lib/python3.8/site-packages (from kaggle) (2.8.2)\n",
            "Requirement already satisfied: certifi in /workspace/.pyenv_mirror/user/3.8.18/lib/python3.8/site-packages (from kaggle) (2024.2.2)\n",
            "Requirement already satisfied: six>=1.10 in /workspace/.pyenv_mirror/user/3.8.18/lib/python3.8/site-packages (from kaggle) (1.16.0)\n",
            "Requirement already satisfied: webencodings in /home/gitpod/.pyenv/versions/3.8.18/lib/python3.8/site-packages (from bleach->kaggle) (0.5.1)\n",
            "Requirement already satisfied: text-unidecode>=1.3 in /home/gitpod/.pyenv/versions/3.8.18/lib/python3.8/site-packages (from python-slugify->kaggle) (1.3)\n",
            "Requirement already satisfied: charset-normalizer<4,>=2 in /workspace/.pyenv_mirror/user/3.8.18/lib/python3.8/site-packages (from requests->kaggle) (3.3.2)\n",
            "Requirement already satisfied: idna<4,>=2.5 in /workspace/.pyenv_mirror/user/3.8.18/lib/python3.8/site-packages (from requests->kaggle) (3.6)\n",
            "\n",
            "\u001b[1m[\u001b[0m\u001b[34;49mnotice\u001b[0m\u001b[1;39;49m]\u001b[0m\u001b[39;49m A new release of pip is available: \u001b[0m\u001b[31;49m23.0.1\u001b[0m\u001b[39;49m -> \u001b[0m\u001b[32;49m24.0\u001b[0m\n",
            "\u001b[1m[\u001b[0m\u001b[34;49mnotice\u001b[0m\u001b[1;39;49m]\u001b[0m\u001b[39;49m To update, run: \u001b[0m\u001b[32;49mpip install --upgrade pip\u001b[0m\n",
            "Note: you may need to restart the kernel to use updated packages.\n"
          ]
        }
      ],
      "source": [
        "%pip install kaggle"
      ]
    },
    {
      "cell_type": "markdown",
      "metadata": {},
      "source": [
        "* Change config directory to currect directory\n",
        "* Permission of kaggle authentication using kaggle.json"
      ]
    },
    {
      "cell_type": "code",
      "execution_count": 43,
      "metadata": {},
      "outputs": [],
      "source": [
        "os.environ['KAGGLE_CONFIG_DIR'] = os.getcwd()\n",
        "! chmod 600 kaggle.json"
      ]
    },
    {
      "cell_type": "markdown",
      "metadata": {},
      "source": [
        "* Download Kaggle dataset"
      ]
    },
    {
      "cell_type": "code",
      "execution_count": 44,
      "metadata": {},
      "outputs": [
        {
          "name": "stdout",
          "output_type": "stream",
          "text": [
            "Downloading cherry-leaves.zip to inputs/full_dataset\n",
            "100%|█████████████████████████████████████▉| 55.0M/55.0M [00:01<00:00, 45.8MB/s]\n",
            "100%|██████████████████████████████████████| 55.0M/55.0M [00:01<00:00, 32.3MB/s]\n"
          ]
        }
      ],
      "source": [
        "KaggleDatasetPath = 'codeinstitute/cherry-leaves'\n",
        "DestinationFolder = 'inputs/full_dataset'\n",
        "! kaggle datasets download -d {KaggleDatasetPath} -p {DestinationFolder}"
      ]
    },
    {
      "cell_type": "markdown",
      "metadata": {},
      "source": [
        "* Unzip files\n",
        "* Delete zipped files"
      ]
    },
    {
      "cell_type": "code",
      "execution_count": 45,
      "metadata": {},
      "outputs": [],
      "source": [
        "import zipfile\n",
        "with zipfile.ZipFile(DestinationFolder + '/cherry-leaves.zip', 'r') as zip_ref:\n",
        "    zip_ref.extractall(DestinationFolder)\n",
        "\n",
        "os.remove(DestinationFolder + '/cherry-leaves.zip')"
      ]
    },
    {
      "cell_type": "markdown",
      "metadata": {
        "id": "ZY3l0-AxO93d"
      },
      "source": [
        "---"
      ]
    },
    {
      "cell_type": "markdown",
      "metadata": {
        "id": "uFQo3ycuO-v6"
      },
      "source": [
        "# Preparation of Data"
      ]
    },
    {
      "cell_type": "markdown",
      "metadata": {},
      "source": [
        "Cleaning the data to remove all non-image files."
      ]
    },
    {
      "cell_type": "code",
      "execution_count": 46,
      "metadata": {},
      "outputs": [],
      "source": [
        "def non_image_file(my_data_dir):\n",
        "    \"\"\"\n",
        "    Remove files without .png, .jpg and .jpeg\n",
        "    \"\"\"\n",
        "\n",
        "    img_ext = ('.png','.jpg','.jpeg')\n",
        "    folders = os.listdir(my_data_dir)\n",
        "    for folder in folders:\n",
        "        files = os.listdir(my_data_dir + '/' + folder)\n",
        "\n",
        "        i = []\n",
        "        j = []\n",
        "\n",
        "        for curr_file in files:\n",
        "            if not curr_file.lower().endswith(img_ext):\n",
        "                file_location = my_data_dir + '/' + folder + '/' + curr_file\n",
        "                os.remove(file_location)\n",
        "                i.append(1)\n",
        "            else:\n",
        "                j.append(1)\n",
        "                pass\n",
        "        print(f\"{folder} - image files - \",len(j))\n",
        "        print(f\"{folder} - non-image files - \",len(i))"
      ]
    },
    {
      "cell_type": "code",
      "execution_count": 47,
      "metadata": {},
      "outputs": [
        {
          "name": "stdout",
          "output_type": "stream",
          "text": [
            "healthy - image files -  2104\n",
            "healthy - non-image files -  0\n",
            "powdery_mildew - image files -  2104\n",
            "powdery_mildew - non-image files -  0\n"
          ]
        }
      ],
      "source": [
        "non_image_file('inputs/full_dataset/cherry-leaves')"
      ]
    },
    {
      "cell_type": "markdown",
      "metadata": {},
      "source": [
        "## Split data\n",
        "\n",
        "Split data into three sets-\n",
        "* Train\n",
        "* Test\n",
        "* Validation"
      ]
    },
    {
      "cell_type": "markdown",
      "metadata": {},
      "source": [
        "Imports"
      ]
    },
    {
      "cell_type": "code",
      "execution_count": null,
      "metadata": {},
      "outputs": [],
      "source": [
        "import os\n",
        "import shutil\n",
        "import random\n",
        "import joblib"
      ]
    },
    {
      "cell_type": "markdown",
      "metadata": {},
      "source": [
        "Function to split data and run the function"
      ]
    },
    {
      "cell_type": "code",
      "execution_count": null,
      "metadata": {},
      "outputs": [],
      "source": [
        "def split_images(my_data_dir, train_ratio, validation_ratio, test_ratio):\n",
        "    \"\"\" \n",
        "    This function will split the full dataset into train, validation and test sets. \n",
        "    It will split in the ratio that will be entered when running function\n",
        "    \"\"\" \n",
        "\n",
        "    # check if sum of ratio is 1\n",
        "\n",
        "    if train_ratio + validation_ratio + test_ratio != 1.0:\n",
        "        print(\"The sum of the ratios should equal 1\")\n",
        "        return\n",
        "    \n",
        "    labels = os.listdir(my_data_dir)\n",
        "    if 'test' in labels:\n",
        "        pass\n",
        "    else:\n",
        "        folders = ['train', 'validation', 'test']\n",
        "        for folder in folders:\n",
        "            for label in labels:\n",
        "                os.makedirs(name=my_data_dir+ '/' + folder + '/' + label)\n",
        "        \n",
        "        for label in labels:\n",
        "            files = os.listdir(my_data_dir + '/' + label)\n",
        "            random.shuffle(files)\n",
        "\n",
        "            train_set_qty = int(len(files) * train_ratio)\n",
        "            validation_set_qty = int(len(files) * validation_ratio)\n",
        "\n",
        "            count=1\n",
        "\n",
        "            for file_name in files:\n",
        "                if count <= train_set_qty:\n",
        "                    shutil.move(my_data_dir +'/' + label +'/' + file_name,\n",
        "                   my_data_dir + '/train/' + label +'/' + file_name )\n",
        "\n",
        "                elif count <= (train_set_qty+validation_set_qty):\n",
        "                    shutil.move(my_data_dir +'/' + label +'/' + file_name,\n",
        "                   my_data_dir + '/validation/' + label +'/' + file_name )\n",
        "                \n",
        "                else:\n",
        "                    shutil.move(my_data_dir +'/' + label +'/' + file_name,\n",
        "                   my_data_dir + '/test/' + label +'/' + file_name )\n",
        "                \n",
        "                count+=1\n",
        "            os.rmdir(my_data_dir +'/'+label)\n"
      ]
    },
    {
      "cell_type": "markdown",
      "metadata": {},
      "source": [
        "Use the function to split into following ratios for each set:\n",
        "* Train = 70%\n",
        "* Validation = 10%\n",
        "* Test = 20%"
      ]
    },
    {
      "cell_type": "code",
      "execution_count": null,
      "metadata": {},
      "outputs": [],
      "source": [
        "split_images( f\"inputs/full_dataset/cherry-leaves\", 0.7, 0.1, 0.2)"
      ]
    },
    {
      "cell_type": "markdown",
      "metadata": {},
      "source": [
        "---"
      ]
    },
    {
      "cell_type": "markdown",
      "metadata": {},
      "source": [
        "## Conclusions"
      ]
    },
    {
      "cell_type": "markdown",
      "metadata": {},
      "source": [
        "* Data is downloaded from Kaggle\n",
        "* Data is cleaned to remove any non-image files\n",
        "* Data is split into three folders \n",
        "    - inputs/full_dataset/cherry-leaves/train\n",
        "    - inputs/full_dataset/cherry-leaves/validation\n",
        "    - inputs/full_dataset/cherry-leaves/test"
      ]
    },
    {
      "cell_type": "markdown",
      "metadata": {},
      "source": [
        "---"
      ]
    },
    {
      "cell_type": "markdown",
      "metadata": {
        "id": "ltNetd085qHf"
      },
      "source": [
        "# Push files to Repo"
      ]
    },
    {
      "cell_type": "markdown",
      "metadata": {},
      "source": [
        "* If you don't need to push files to Repo, you may replace this section with \"Conclusions and Next Steps\" and state your conclusions and next steps."
      ]
    }
  ],
  "metadata": {
    "accelerator": "GPU",
    "colab": {
      "name": "Data Practitioner Jupyter Notebook.ipynb",
      "provenance": [],
      "toc_visible": true
    },
    "interpreter": {
      "hash": "8b8334dab9339717f727a1deaf837b322d7a41c20d15cc86be99a8e69ceec8ce"
    },
    "kernelspec": {
      "display_name": "Python 3.8.12 64-bit ('3.8.12': pyenv)",
      "name": "python3"
    },
    "language_info": {
      "codemirror_mode": {
        "name": "ipython",
        "version": 3
      },
      "file_extension": ".py",
      "mimetype": "text/x-python",
      "name": "python",
      "nbconvert_exporter": "python",
      "pygments_lexer": "ipython3",
      "version": "3.12.2"
    },
    "orig_nbformat": 2
  },
  "nbformat": 4,
  "nbformat_minor": 2
}
